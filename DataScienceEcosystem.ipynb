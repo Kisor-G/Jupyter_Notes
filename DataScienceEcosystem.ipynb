{
 "cells": [
  {
   "cell_type": "markdown",
   "id": "a9faf260",
   "metadata": {},
   "source": [
    "# Data Science Tools and Ecosystem"
   ]
  },
  {
   "cell_type": "markdown",
   "id": "102a349b",
   "metadata": {},
   "source": [
    "In this notebook, Data Science Tools and Ecosystem are summarized."
   ]
  },
  {
   "cell_type": "markdown",
   "id": "e7a3faed",
   "metadata": {},
   "source": [
    "Some of the popular languages that Data Scientists use are:\n",
    "1. Python\n",
    "2. R\n",
    "3. SQL"
   ]
  },
  {
   "cell_type": "markdown",
   "id": "8feeccd4",
   "metadata": {},
   "source": [
    "Some of the commonly used libraries used by Data Scientists include:\n",
    "1. C++\n",
    "2. Java\n",
    "3. Julia\n",
    "4. Javascript\n",
    "5. Swift\n",
    "6. Scala"
   ]
  },
  {
   "cell_type": "markdown",
   "id": "8b35e993",
   "metadata": {},
   "source": [
    "| Data Science Tools|\n",
    "| --- |\n",
    "| Apache Hadoop |\n",
    "| --- |\n",
    "| SAS |\n",
    "| --- |\n",
    "| Apache Spark |"
   ]
  },
  {
   "cell_type": "markdown",
   "id": "e7732b95",
   "metadata": {},
   "source": [
    "### Below are a few examples of evaluating arithmetic expressions in Python"
   ]
  },
  {
   "cell_type": "code",
   "execution_count": 1,
   "id": "c988164d",
   "metadata": {},
   "outputs": [
    {
     "data": {
      "text/plain": [
       "7"
      ]
     },
     "execution_count": 1,
     "metadata": {},
     "output_type": "execute_result"
    }
   ],
   "source": [
    "3+4"
   ]
  },
  {
   "cell_type": "code",
   "execution_count": 2,
   "id": "ff9bf5f8",
   "metadata": {},
   "outputs": [
    {
     "data": {
      "text/plain": [
       "18"
      ]
     },
     "execution_count": 2,
     "metadata": {},
     "output_type": "execute_result"
    }
   ],
   "source": [
    "53-35"
   ]
  },
  {
   "cell_type": "code",
   "execution_count": 3,
   "id": "f6bb858b",
   "metadata": {},
   "outputs": [
    {
     "data": {
      "text/plain": [
       "540"
      ]
     },
     "execution_count": 3,
     "metadata": {},
     "output_type": "execute_result"
    }
   ],
   "source": [
    "12*45"
   ]
  },
  {
   "cell_type": "markdown",
   "id": "1df0faf0",
   "metadata": {},
   "source": [
    "This a simple arithmetic expression to mutiply then add integers"
   ]
  },
  {
   "cell_type": "code",
   "execution_count": 5,
   "id": "cec515a0",
   "metadata": {},
   "outputs": [
    {
     "data": {
      "text/plain": [
       "17"
      ]
     },
     "execution_count": 5,
     "metadata": {},
     "output_type": "execute_result"
    }
   ],
   "source": [
    "(3*4)+5"
   ]
  },
  {
   "cell_type": "markdown",
   "id": "f0577e64",
   "metadata": {},
   "source": [
    "This will convert 200 minutes to hours by diving by 60"
   ]
  },
  {
   "cell_type": "code",
   "execution_count": 9,
   "id": "79bc8a1a",
   "metadata": {},
   "outputs": [
    {
     "name": "stdout",
     "output_type": "stream",
     "text": [
      "200 minutes is 3.3333333333333335 hours\n"
     ]
    }
   ],
   "source": [
    "a = 200\n",
    "result = a/60\n",
    "print(a,\"minutes is\",result,\"hours\")"
   ]
  },
  {
   "cell_type": "markdown",
   "id": "eabf0fcb",
   "metadata": {},
   "source": [
    "*Objectives*:\n"
   ]
  },
  {
   "cell_type": "markdown",
   "id": "a05c311d",
   "metadata": {},
   "source": [
    " List popular languages for Data Science:"
   ]
  },
  {
   "cell_type": "markdown",
   "id": "7ae95f7a",
   "metadata": {},
   "source": [
    "⁎ Python <BR>\n",
    "⁎ C++ <BR>\n",
    "⁎ Java <BR>\n",
    "⁎ Julia <BR>\n",
    "⁎ Javascript <BR>\n",
    "⁎ Swift <BR>\n",
    "⁎ Scala <BR>\n",
    "⁎ R"
   ]
  },
  {
   "cell_type": "markdown",
   "id": "60694461",
   "metadata": {},
   "source": [
    "## Author\n",
    "\n",
    "Lakshmi Holla\n",
    "\n",
    "Niveditha Pandith\n",
    "\n"
   ]
  },
  {
   "cell_type": "code",
   "execution_count": null,
   "id": "f7c8968e",
   "metadata": {},
   "outputs": [],
   "source": []
  }
 ],
 "metadata": {
  "kernelspec": {
   "display_name": "Python 3 (ipykernel)",
   "language": "python",
   "name": "python3"
  },
  "language_info": {
   "codemirror_mode": {
    "name": "ipython",
    "version": 3
   },
   "file_extension": ".py",
   "mimetype": "text/x-python",
   "name": "python",
   "nbconvert_exporter": "python",
   "pygments_lexer": "ipython3",
   "version": "3.11.4"
  }
 },
 "nbformat": 4,
 "nbformat_minor": 5
}
